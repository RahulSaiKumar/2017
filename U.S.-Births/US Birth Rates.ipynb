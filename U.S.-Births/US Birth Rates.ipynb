{
 "cells": [
  {
   "cell_type": "markdown",
   "metadata": {},
   "source": [
    "# Introduction to the Dataset"
   ]
  },
  {
   "cell_type": "code",
   "execution_count": 1,
   "metadata": {
    "collapsed": false
   },
   "outputs": [
    {
     "data": {
      "text/plain": [
       "['year,month,date_of_month,day_of_week,births',\n",
       " '1994,1,1,6,8096',\n",
       " '1994,1,2,7,7772',\n",
       " '1994,1,3,1,10142',\n",
       " '1994,1,4,2,11248',\n",
       " '1994,1,5,3,11053',\n",
       " '1994,1,6,4,11406',\n",
       " '1994,1,7,5,11251',\n",
       " '1994,1,8,6,8653',\n",
       " '1994,1,9,7,7910']"
      ]
     },
     "execution_count": 1,
     "metadata": {},
     "output_type": "execute_result"
    }
   ],
   "source": [
    "import matplotlib.pyplot as plt\n",
    "%matplotlib inline\n",
    "f = open('US_births_1994-2003_CDC_NCHS.csv','r')\n",
    "births = f.read()\n",
    "new_line = births.split('\\n')\n",
    "new_line[:10]"
   ]
  },
  {
   "cell_type": "markdown",
   "metadata": {},
   "source": [
    "# Coverting Data into a List of Lists"
   ]
  },
  {
   "cell_type": "code",
   "execution_count": 2,
   "metadata": {
    "collapsed": false
   },
   "outputs": [
    {
     "data": {
      "text/plain": [
       "[[1994, 1, 1, 6, 8096],\n",
       " [1994, 1, 2, 7, 7772],\n",
       " [1994, 1, 3, 1, 10142],\n",
       " [1994, 1, 4, 2, 11248],\n",
       " [1994, 1, 5, 3, 11053],\n",
       " [1994, 1, 6, 4, 11406],\n",
       " [1994, 1, 7, 5, 11251],\n",
       " [1994, 1, 8, 6, 8653],\n",
       " [1994, 1, 9, 7, 7910],\n",
       " [1994, 1, 10, 1, 10498]]"
      ]
     },
     "execution_count": 2,
     "metadata": {},
     "output_type": "execute_result"
    }
   ],
   "source": [
    "def read_csv(input):\n",
    "    string = input.read()\n",
    "    new_line_string = string.split('\\n')\n",
    "    string_list = new_line_string[1:]\n",
    "    final_list = []\n",
    "    for each in string_list:\n",
    "        int_fields = []\n",
    "        string_fields = each.split(',')\n",
    "        for value in string_fields:\n",
    "            int_fields.append(int(value))\n",
    "        final_list.append(int_fields)\n",
    "        \n",
    "    return final_list\n",
    "\n",
    "f = open('US_births_1994-2003_CDC_NCHS.csv','r')\n",
    "cdc_list = read_csv(f)\n",
    "cdc_list[:10]"
   ]
  },
  {
   "cell_type": "markdown",
   "metadata": {},
   "source": [
    "# Calculating Number of Births each Month"
   ]
  },
  {
   "cell_type": "code",
   "execution_count": 3,
   "metadata": {
    "collapsed": false
   },
   "outputs": [
    {
     "data": {
      "text/plain": [
       "{1: 3232517,\n",
       " 2: 3018140,\n",
       " 3: 3322069,\n",
       " 4: 3185314,\n",
       " 5: 3350907,\n",
       " 6: 3296530,\n",
       " 7: 3498783,\n",
       " 8: 3525858,\n",
       " 9: 3439698,\n",
       " 10: 3378814,\n",
       " 11: 3171647,\n",
       " 12: 3301860}"
      ]
     },
     "execution_count": 3,
     "metadata": {},
     "output_type": "execute_result"
    }
   ],
   "source": [
    "def month_births(list_of_lists):\n",
    "    births_per_month = {}\n",
    "    for each in list_of_lists:\n",
    "        month = each[1]\n",
    "        births = each[4]\n",
    "        if month in births_per_month:\n",
    "            births_per_month[month] += births\n",
    "        else:\n",
    "            births_per_month[month] = births\n",
    "    return births_per_month\n",
    "\n",
    "cdc_month_births = month_births(cdc_list)\n",
    "cdc_month_births"
   ]
  },
  {
   "cell_type": "markdown",
   "metadata": {},
   "source": [
    "# Calculating Number of Births Each Day of the Week"
   ]
  },
  {
   "cell_type": "code",
   "execution_count": 4,
   "metadata": {
    "collapsed": false
   },
   "outputs": [
    {
     "data": {
      "text/plain": [
       "{1: 5789166,\n",
       " 2: 6446196,\n",
       " 3: 6322855,\n",
       " 4: 6288429,\n",
       " 5: 6233657,\n",
       " 6: 4562111,\n",
       " 7: 4079723}"
      ]
     },
     "execution_count": 4,
     "metadata": {},
     "output_type": "execute_result"
    }
   ],
   "source": [
    "def dow_births(list_of_lists):\n",
    "    day_births = {}\n",
    "    for each in list_of_lists:\n",
    "        day_number = each[3]\n",
    "        births = each[4]\n",
    "        if day_number in day_births:\n",
    "            day_births[day_number] += births\n",
    "        else:\n",
    "            day_births[day_number] = births\n",
    "    return day_births\n",
    "\n",
    "cdc_day_births = dow_births(cdc_list)\n",
    "cdc_day_births"
   ]
  },
  {
   "cell_type": "markdown",
   "metadata": {},
   "source": [
    "# Creating a More General Function"
   ]
  },
  {
   "cell_type": "code",
   "execution_count": 5,
   "metadata": {
    "collapsed": true
   },
   "outputs": [],
   "source": [
    "def calc_counts(data, column):\n",
    "    column_births = {}\n",
    "    for each in data:\n",
    "        column_data = each[column]\n",
    "        births = each[4]\n",
    "        if column_data in column_births:\n",
    "            column_births[column_data] += births\n",
    "        else:\n",
    "            column_births[column_data] = births\n",
    "    return column_births\n",
    "\n",
    "cdc_year_births = calc_counts(cdc_list, 0)\n",
    "cdc_month_births = calc_counts(cdc_list, 1)\n",
    "cdc_dom_births = calc_counts(cdc_list, 2)\n",
    "cdc_dow_births = calc_counts(cdc_list, 3)"
   ]
  },
  {
   "cell_type": "code",
   "execution_count": 6,
   "metadata": {
    "collapsed": false
   },
   "outputs": [
    {
     "data": {
      "text/plain": [
       "{1994: 3952767,\n",
       " 1995: 3899589,\n",
       " 1996: 3891494,\n",
       " 1997: 3880894,\n",
       " 1998: 3941553,\n",
       " 1999: 3959417,\n",
       " 2000: 4058814,\n",
       " 2001: 4025933,\n",
       " 2002: 4021726,\n",
       " 2003: 4089950}"
      ]
     },
     "execution_count": 6,
     "metadata": {},
     "output_type": "execute_result"
    }
   ],
   "source": [
    "cdc_year_births"
   ]
  },
  {
   "cell_type": "code",
   "execution_count": 7,
   "metadata": {
    "collapsed": false
   },
   "outputs": [
    {
     "data": {
      "text/plain": [
       "{1: 1276557,\n",
       " 2: 1288739,\n",
       " 3: 1304499,\n",
       " 4: 1288154,\n",
       " 5: 1299953,\n",
       " 6: 1304474,\n",
       " 7: 1310459,\n",
       " 8: 1312297,\n",
       " 9: 1303292,\n",
       " 10: 1320764,\n",
       " 11: 1314361,\n",
       " 12: 1318437,\n",
       " 13: 1277684,\n",
       " 14: 1320153,\n",
       " 15: 1319171,\n",
       " 16: 1315192,\n",
       " 17: 1324953,\n",
       " 18: 1326855,\n",
       " 19: 1318727,\n",
       " 20: 1324821,\n",
       " 21: 1322897,\n",
       " 22: 1317381,\n",
       " 23: 1293290,\n",
       " 24: 1288083,\n",
       " 25: 1272116,\n",
       " 26: 1284796,\n",
       " 27: 1294395,\n",
       " 28: 1307685,\n",
       " 29: 1223161,\n",
       " 30: 1202095,\n",
       " 31: 746696}"
      ]
     },
     "execution_count": 7,
     "metadata": {},
     "output_type": "execute_result"
    }
   ],
   "source": [
    "cdc_dom_births"
   ]
  },
  {
   "cell_type": "markdown",
   "metadata": {},
   "source": [
    "# Finding Min and Max Births for Time Period"
   ]
  },
  {
   "cell_type": "code",
   "execution_count": 8,
   "metadata": {
    "collapsed": false
   },
   "outputs": [
    {
     "name": "stdout",
     "output_type": "stream",
     "text": [
      "Min Births is 3880894 in 1997\n",
      "Max Births is 4089950 in 2003\n"
     ]
    }
   ],
   "source": [
    "def min_max_births(data, extra):\n",
    "    for key in data:\n",
    "        min = data[key]\n",
    "        min_key = key\n",
    "        max = data[key]\n",
    "        max_key = key\n",
    "        break\n",
    "    for key in data:\n",
    "        if data[key] < min:\n",
    "            min = data[key]\n",
    "            min_key = key\n",
    "        if data[key] > max:\n",
    "            max = data[key]\n",
    "            max_key = key\n",
    "    print('Min Births is ' + str(min) + ' in ' + str(min_key) + extra)\n",
    "    print('Max Births is ' + str(max) + ' in ' + str(max_key) + extra)\n",
    "    \n",
    "\n",
    "min_max_births(cdc_year_births,'')\n",
    "        "
   ]
  },
  {
   "cell_type": "code",
   "execution_count": 9,
   "metadata": {
    "collapsed": false
   },
   "outputs": [
    {
     "name": "stdout",
     "output_type": "stream",
     "text": [
      "Min Births is 3018140 in 2nd Month\n",
      "Max Births is 3525858 in 8nd Month\n"
     ]
    }
   ],
   "source": [
    "min_max_births(cdc_month_births,'nd Month')"
   ]
  },
  {
   "cell_type": "code",
   "execution_count": 10,
   "metadata": {
    "collapsed": false
   },
   "outputs": [
    {
     "name": "stdout",
     "output_type": "stream",
     "text": [
      "Min Births is 746696 in 31 Day of Month\n",
      "Max Births is 1326855 in 18 Day of Month\n"
     ]
    }
   ],
   "source": [
    "min_max_births(cdc_dom_births, ' Day of Month')"
   ]
  },
  {
   "cell_type": "code",
   "execution_count": 11,
   "metadata": {
    "collapsed": false
   },
   "outputs": [
    {
     "name": "stdout",
     "output_type": "stream",
     "text": [
      "Min Births is 4079723 in 7 Day of Week\n",
      "Max Births is 6446196 in 2 Day of Week\n"
     ]
    }
   ],
   "source": [
    "min_max_births(cdc_dow_births, ' Day of Week')"
   ]
  },
  {
   "cell_type": "markdown",
   "metadata": {},
   "source": [
    "# Change in Number of Births on Saturday Over the Years"
   ]
  },
  {
   "cell_type": "code",
   "execution_count": 29,
   "metadata": {
    "collapsed": false
   },
   "outputs": [
    {
     "data": {
      "text/plain": [
       "{1994: 474732,\n",
       " 1995: 467408,\n",
       " 1996: 463944,\n",
       " 1997: 459189,\n",
       " 1998: 461989,\n",
       " 1999: 458148,\n",
       " 2000: 469794,\n",
       " 2001: 461365,\n",
       " 2002: 453560,\n",
       " 2003: 455228}"
      ]
     },
     "execution_count": 29,
     "metadata": {},
     "output_type": "execute_result"
    }
   ],
   "source": [
    "# dow:6 is saturday\n",
    "\n",
    "# Method 1\n",
    "def births_year_sat(list_of_lists):\n",
    "    sat_year_births = {}\n",
    "    for each in list_of_lists:\n",
    "        year = each[0]\n",
    "        day_number = each[3]\n",
    "        births = each[4]\n",
    "        if year in sat_year_births:\n",
    "            if day_number == 6:\n",
    "                sat_year_births[year] += births\n",
    "        else:\n",
    "            sat_year_births[year] = births\n",
    "    return sat_year_births\n",
    "\n",
    "cdc_sat_year_births = births_year_sat(cdc_list)\n",
    "cdc_sat_year_births"
   ]
  },
  {
   "cell_type": "code",
   "execution_count": 31,
   "metadata": {
    "collapsed": false
   },
   "outputs": [
    {
     "name": "stdout",
     "output_type": "stream",
     "text": [
      "[1994, 1995, 1996, 1997, 1998, 1999, 2000, 2001, 2002, 2003]\n",
      "Number of Births on Saturdays in the Year 1994 : 474732\n",
      "Number of Births on Saturdays in the Year 1995 : 459580\n",
      "Number of Births on Saturdays in the Year 1996 : 456261\n",
      "Number of Births on Saturdays in the Year 1997 : 450840\n",
      "Number of Births on Saturdays in the Year 1998 : 453776\n",
      "Number of Births on Saturdays in the Year 1999 : 449985\n",
      "Number of Births on Saturdays in the Year 2000 : 469794\n",
      "Number of Births on Saturdays in the Year 2001 : 453928\n",
      "Number of Births on Saturdays in the Year 2002 : 445770\n",
      "Number of Births on Saturdays in the Year 2003 : 447445\n"
     ]
    },
    {
     "data": {
      "image/png": "[encoded data removed]",
      "text/plain": [
       "<matplotlib.figure.Figure at 0x7fbd6ee809b0>"
      ]
     },
     "metadata": {},
     "output_type": "display_data"
    }
   ],
   "source": [
    "# Method 2\n",
    "def sat_per_year(data):\n",
    "    births_sat = {}\n",
    "    i = 0\n",
    "    year = [1994,1995,1996,1997,1998,1999,2000,2001,2002,2003]\n",
    "    print(year)\n",
    "    for each in data:\n",
    "        if each[0] in births_sat and each[3] == 6:\n",
    "            births_sat[each[0]] += each[4]\n",
    "        elif each[3] == 6:\n",
    "            births_sat[each[0]] = each[4]\n",
    "    births_diff_sat = [births_sat[1994+i] for i in range(0,10)]\n",
    "    for each in births_diff_sat:\n",
    "        print('Number of Births on Saturdays in the Year ' +  str(1994+i) +' : ' + str(each))\n",
    "        i+=1\n",
    "    birth_trend_sat = [0]\n",
    "    for value in range(1, len(births_diff_sat)):\n",
    "        diff = births_diff_sat[value] - births_diff_sat[value-1]\n",
    "        birth_trend_sat.append(diff)\n",
    "    plt.plot(births_diff_sat)\n",
    "    plt.title('Number of Births on a Saturday of each Consecutive Year')\n",
    "    plt.xticks(range(0,10),year)\n",
    "    return birth_trend_sat\n",
    "      \n",
    "births_sat_per_year = sat_per_year(cdc_list)\n"
   ]
  },
  {
   "cell_type": "markdown",
   "metadata": {
    "collapsed": true
   },
   "source": [
    "From the graph, apart from the sudden spike in birth rate in 2000, there seems to be a decrease in the number of births on a saturday over the years."
   ]
  }
 ],
 "metadata": {
  "anaconda-cloud": {},
  "kernelspec": {
   "display_name": "Python 3",
   "language": "python",
   "name": "python3"
  },
  "language_info": {
   "codemirror_mode": {
    "name": "ipython",
    "version": 3
   },
   "file_extension": ".py",
   "mimetype": "text/x-python",
   "name": "python",
   "nbconvert_exporter": "python",
   "pygments_lexer": "ipython3",
   "version": "3.4.3"
  }
 },
 "nbformat": 4,
 "nbformat_minor": 1
}
